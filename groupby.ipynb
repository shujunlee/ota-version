{
 "cells": [
  {
   "cell_type": "code",
   "execution_count": 1,
   "metadata": {},
   "outputs": [
    {
     "data": {
      "text/html": [
       "<div>\n",
       "<style scoped>\n",
       "    .dataframe tbody tr th:only-of-type {\n",
       "        vertical-align: middle;\n",
       "    }\n",
       "\n",
       "    .dataframe tbody tr th {\n",
       "        vertical-align: top;\n",
       "    }\n",
       "\n",
       "    .dataframe thead th {\n",
       "        text-align: right;\n",
       "    }\n",
       "</style>\n",
       "<table border=\"1\" class=\"dataframe\">\n",
       "  <thead>\n",
       "    <tr style=\"text-align: right;\">\n",
       "      <th></th>\n",
       "      <th>mdt_id</th>\n",
       "      <th>vehicle_id</th>\n",
       "      <th>list_of_app</th>\n",
       "      <th>rpt_time</th>\n",
       "      <th>Hired Status</th>\n",
       "    </tr>\n",
       "  </thead>\n",
       "  <tbody>\n",
       "    <tr>\n",
       "      <th>0</th>\n",
       "      <td>SHB786K ID</td>\n",
       "      <td>SHB786K</td>\n",
       "      <td>com.ucast.blackbox:1.0.1028.201216_RC,com.grab...</td>\n",
       "      <td>2021-12-01 16:35:19</td>\n",
       "      <td>Hired</td>\n",
       "    </tr>\n",
       "    <tr>\n",
       "      <th>1</th>\n",
       "      <td>864403045571834</td>\n",
       "      <td>SHF184B</td>\n",
       "      <td>com.ucast.blackbox:1.0.1028.201216_RC,com.grab...</td>\n",
       "      <td>2021-12-01 16:29:55</td>\n",
       "      <td>Hired</td>\n",
       "    </tr>\n",
       "    <tr>\n",
       "      <th>2</th>\n",
       "      <td>861075023920630</td>\n",
       "      <td>SHC4533S</td>\n",
       "      <td>com.ucast.blackbox:1.0.1028.201216_RC,com.grab...</td>\n",
       "      <td>2021-12-01 16:17:08</td>\n",
       "      <td>Unhired</td>\n",
       "    </tr>\n",
       "    <tr>\n",
       "      <th>3</th>\n",
       "      <td>861075024188252</td>\n",
       "      <td>SHB5734C</td>\n",
       "      <td>com.ucast.blackbox:1.0.1028.201216_RC,com.grab...</td>\n",
       "      <td>2021-12-01 14:58:44</td>\n",
       "      <td>Hired</td>\n",
       "    </tr>\n",
       "    <tr>\n",
       "      <th>4</th>\n",
       "      <td>861075023927445</td>\n",
       "      <td>SHC4759H</td>\n",
       "      <td>com.ucast.blackbox:1.0.1014.201027_RC,com.grab...</td>\n",
       "      <td>2021-12-01 14:18:28</td>\n",
       "      <td>Hired</td>\n",
       "    </tr>\n",
       "    <tr>\n",
       "      <th>...</th>\n",
       "      <td>...</td>\n",
       "      <td>...</td>\n",
       "      <td>...</td>\n",
       "      <td>...</td>\n",
       "      <td>...</td>\n",
       "    </tr>\n",
       "    <tr>\n",
       "      <th>1795</th>\n",
       "      <td>NaN</td>\n",
       "      <td>SHF484K</td>\n",
       "      <td>NaN</td>\n",
       "      <td>NaT</td>\n",
       "      <td>Unhired</td>\n",
       "    </tr>\n",
       "    <tr>\n",
       "      <th>1796</th>\n",
       "      <td>NaN</td>\n",
       "      <td>SHF493J</td>\n",
       "      <td>NaN</td>\n",
       "      <td>NaT</td>\n",
       "      <td>Unhired</td>\n",
       "    </tr>\n",
       "    <tr>\n",
       "      <th>1797</th>\n",
       "      <td>NaN</td>\n",
       "      <td>SHF497Z</td>\n",
       "      <td>NaN</td>\n",
       "      <td>NaT</td>\n",
       "      <td>Unhired</td>\n",
       "    </tr>\n",
       "    <tr>\n",
       "      <th>1798</th>\n",
       "      <td>NaN</td>\n",
       "      <td>SHF498X</td>\n",
       "      <td>NaN</td>\n",
       "      <td>NaT</td>\n",
       "      <td>Unhired</td>\n",
       "    </tr>\n",
       "    <tr>\n",
       "      <th>1799</th>\n",
       "      <td>NaN</td>\n",
       "      <td>SHF499T</td>\n",
       "      <td>NaN</td>\n",
       "      <td>NaT</td>\n",
       "      <td>Unhired</td>\n",
       "    </tr>\n",
       "  </tbody>\n",
       "</table>\n",
       "<p>1800 rows × 5 columns</p>\n",
       "</div>"
      ],
      "text/plain": [
       "               mdt_id vehicle_id  \\\n",
       "0          SHB786K ID    SHB786K   \n",
       "1     864403045571834    SHF184B   \n",
       "2     861075023920630   SHC4533S   \n",
       "3     861075024188252   SHB5734C   \n",
       "4     861075023927445   SHC4759H   \n",
       "...               ...        ...   \n",
       "1795              NaN    SHF484K   \n",
       "1796              NaN    SHF493J   \n",
       "1797              NaN    SHF497Z   \n",
       "1798              NaN    SHF498X   \n",
       "1799              NaN    SHF499T   \n",
       "\n",
       "                                            list_of_app            rpt_time  \\\n",
       "0     com.ucast.blackbox:1.0.1028.201216_RC,com.grab... 2021-12-01 16:35:19   \n",
       "1     com.ucast.blackbox:1.0.1028.201216_RC,com.grab... 2021-12-01 16:29:55   \n",
       "2     com.ucast.blackbox:1.0.1028.201216_RC,com.grab... 2021-12-01 16:17:08   \n",
       "3     com.ucast.blackbox:1.0.1028.201216_RC,com.grab... 2021-12-01 14:58:44   \n",
       "4     com.ucast.blackbox:1.0.1014.201027_RC,com.grab... 2021-12-01 14:18:28   \n",
       "...                                                 ...                 ...   \n",
       "1795                                                NaN                 NaT   \n",
       "1796                                                NaN                 NaT   \n",
       "1797                                                NaN                 NaT   \n",
       "1798                                                NaN                 NaT   \n",
       "1799                                                NaN                 NaT   \n",
       "\n",
       "     Hired Status  \n",
       "0           Hired  \n",
       "1           Hired  \n",
       "2         Unhired  \n",
       "3           Hired  \n",
       "4           Hired  \n",
       "...           ...  \n",
       "1795      Unhired  \n",
       "1796      Unhired  \n",
       "1797      Unhired  \n",
       "1798      Unhired  \n",
       "1799      Unhired  \n",
       "\n",
       "[1800 rows x 5 columns]"
      ]
     },
     "execution_count": 1,
     "metadata": {},
     "output_type": "execute_result"
    }
   ],
   "source": [
    "import pandas as pd\n",
    "import numpy as np\n",
    "\n",
    "df = pd.read_csv(\"devices_20210129_1621.csv\", usecols = ['mdt_id','vehicle_id', 'list_of_app', 'rpt_time']) \n",
    "\n",
    "#Manually filter last report by latest date and remove the duplicated entries that has an older date\n",
    "df['rpt_time'] =pd.to_datetime(df.rpt_time)\n",
    "df.sort_values('rpt_time', ascending = False , inplace = True)\n",
    "\n",
    "#trim vehicle plate whitespace\n",
    "df['vehicle_id'] = df.vehicle_id.str.replace(' ', '')\n",
    "\n",
    "df.set_index('vehicle_id')\n",
    "\n",
    "#drop duplicated plate number\n",
    "df.drop_duplicates(subset =\"vehicle_id\", \n",
    "                     keep = \"first\", inplace = True) \n",
    "\n",
    "#import vehicle master list\n",
    "df_v = pd.read_csv(\"SMRT-master.csv\", index_col = 'vehicle_id') \n",
    "\n",
    "df_smrt = pd.merge(df,  \n",
    "                     df_v,  \n",
    "                     on ='vehicle_id',  \n",
    "                     how ='right') \n",
    "df_smrt"
   ]
  },
  {
   "cell_type": "code",
   "execution_count": 56,
   "metadata": {},
   "outputs": [
    {
     "data": {
      "text/plain": [
       "dict_keys(['com.ucast.blackbox:1.0.1014.201027_RC', 'com.ucast.blackbox:1.0.1017.201029_RC', 'com.ucast.blackbox:1.0.1021.201111_RC', 'com.ucast.blackbox:1.0.1027.201209_RC', 'com.ucast.blackbox:1.0.1028.201216_RC'])"
      ]
     },
     "execution_count": 56,
     "metadata": {},
     "output_type": "execute_result"
    }
   ],
   "source": [
    "\n",
    "\n",
    "grouped0 = df_smrt['list_of_app'].str.split(',', expand=True).groupby(0).groups\n",
    "#.groupby(0).get_group('com.ucast.blackbox:1.0.1028.201216_RC')\n",
    "\n",
    "grouped.keys()\n",
    "\n",
    "ver14 = grouped0.get('com.ucast.blackbox:1.0.1014.201027_RC')\n",
    "ver17 = grouped0.get('com.ucast.blackbox:1.0.1017.201029_RC')\n",
    "ver21 = grouped0.get('com.ucast.blackbox:1.0.1021.201111_RC')\n",
    "ver27 = grouped0.get('com.ucast.blackbox:1.0.1027.201209_RC')\n",
    "ver28 = grouped0.get('com.ucast.blackbox:1.0.1028.201216_RC')\n",
    "\n",
    "grouped.keys()"
   ]
  },
  {
   "cell_type": "code",
   "execution_count": 61,
   "metadata": {},
   "outputs": [
    {
     "data": {
      "text/plain": [
       "dict_keys(['com.grab.blackboxtest:1.0', 'com.grab.blackboxtest:1.0.1001.201120_RC'])"
      ]
     },
     "execution_count": 61,
     "metadata": {},
     "output_type": "execute_result"
    }
   ],
   "source": [
    "grouped1 = df_smrt['list_of_app'].str.split(',', expand=True).groupby(1).groups\n",
    "\n",
    "bbtv1 = grouped1.get('com.grab.blackboxtest:1.0')\n",
    "bbtv2 = grouped1.get('com.grab.blackboxtest:1.0.1001.201120_RC')\n",
    "grouped1.keys()"
   ]
  },
  {
   "cell_type": "code",
   "execution_count": 63,
   "metadata": {},
   "outputs": [
    {
     "data": {
      "text/plain": [
       "dict_keys(['com.ste.itsd.fms.agilmdm:1.0.11', 'com.ste.itsd.fms.agilmdm:1.0.7', 'com.ste.itsd.fms.agilmdmv2:1.0.15', 'com.ucast.blackbox.fileupload:1.0.1001.201028_RC', 'com.ucast.blackbox.fileupload:1.0.1005.201116_RC', 'com.ucast.blackbox.fileupload:1.0.1006.201123_RC', 'com.ucast.blackbox.install:1.0'])"
      ]
     },
     "execution_count": 63,
     "metadata": {},
     "output_type": "execute_result"
    }
   ],
   "source": [
    "grouped2 = df_smrt['list_of_app'].str.split(',', expand=True).groupby(2).groups\n",
    "grouped2.keys()"
   ]
  },
  {
   "cell_type": "code",
   "execution_count": null,
   "metadata": {},
   "outputs": [],
   "source": []
  }
 ],
 "metadata": {
  "kernelspec": {
   "display_name": "Python 3",
   "language": "python",
   "name": "python3"
  },
  "language_info": {
   "codemirror_mode": {
    "name": "ipython",
    "version": 3
   },
   "file_extension": ".py",
   "mimetype": "text/x-python",
   "name": "python",
   "nbconvert_exporter": "python",
   "pygments_lexer": "ipython3",
   "version": "3.8.3"
  }
 },
 "nbformat": 4,
 "nbformat_minor": 4
}
